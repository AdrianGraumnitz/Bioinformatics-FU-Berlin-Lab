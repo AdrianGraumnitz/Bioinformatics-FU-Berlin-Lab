{
 "cells": [
  {
   "cell_type": "markdown",
   "metadata": {},
   "source": [
    "Wir betrachten das allgemeine Matrixsummenproblem: Zu einer n × n-Matrix von\n",
    "nat¨urlichen Zahlen soll die Summe der Elemente berechnet werden. Beim speziellen\n",
    "Matrixsummenproblem ist ebenfalls die Summe der Elemente der Matrix gesucht.\n",
    "Die Matrix hat hier jedoch bereits die Eigenschaft, dass h¨ochstens zwei unterschied-\n",
    "liche Elemente in der Matrix auftauchen, und dass jede Zeile aufsteigend und jede\n",
    "Spalte absteigend sortiert ist."
   ]
  },
  {
   "cell_type": "markdown",
   "metadata": {},
   "source": [
    "### (a) Formulieren Sie das allgemeine und das spezielle Matrixsummenproblem jeweils als algorithmisches Problem.\n",
    "\n",
    "#### Allgemeines Matrixproblem:\n",
    "    - Gegeben ist ist eine n x n große Matrix aus natürlichen Zahlen\n",
    "    - Der Algorithmus muss durch alle Zeilen und Spalten iterieren\n",
    "    - Die Werte hinter den Indizes müssen auf eine Wert der bei 0 Beginnt auf addiert werden\n",
    "    - Die aufsummierte Wert muss zurückgegeben werden\n",
    "\n",
    "#### Spezielles Matrixproblem:\n",
    "    - Gegeben ist eine n x n große Matrix aus natürlichen Zahlen\n",
    "    - Es gibt ausschließlich zwei, sich in keinem erkennbaren Muster Wiederholende, Werte\n",
    "    - Die frequenz der Werte wird in in zwei seperaten Variablen gespeichert\n",
    "    - Ist Iteration beendet werden die häufigkeiten mit ihren zugehörigen Werten multipliziert\n",
    "    - Die Werte werden summiert\n",
    "    - Die Summe der Produkte wird zurückgegeben"
   ]
  },
  {
   "cell_type": "markdown",
   "metadata": {},
   "source": [
    "Implementieren Sie eine Funktion\n",
    "matrix_summe(matrix)\n",
    "in Python, die das allgemeine Matrixsummenproblem löst, indem alle Elemente\n",
    "aufaddiert werden. Analysieren Sie die Laufzeit. Löst die Funktion auch das\n",
    "spezielle Matrixproblem?"
   ]
  },
  {
   "cell_type": "code",
   "execution_count": null,
   "metadata": {},
   "outputs": [
    {
     "name": "stdout",
     "output_type": "stream",
     "text": [
      "13\n",
      "11\n"
     ]
    }
   ],
   "source": [
    "def matrix_summe(matrix: list):\n",
    "    value = 0\n",
    "    for i in range(len(matrix)):\n",
    "        for j in range(len(matrix[i])):\n",
    "            value += matrix[i][j]\n",
    "    return value\n",
    "\n",
    "matrix = [[1,2,3], [5]]\n",
    "special_matrix = [[1,2,2,1], [2,1,2,1,1]]\n",
    "print(matrix_summe(special_matrix))\n",
    "print(matrix_summe(matrix))\n"
   ]
  },
  {
   "cell_type": "markdown",
   "metadata": {},
   "source": [
    "Die Laufzeit beträgt nach Landau Notation O(n^2).\n",
    "Die äußere Schleife benötigt n durchgänge, die innere m. Dies ergibt eine Laufzeit von n*m -> n^2"
   ]
  },
  {
   "cell_type": "code",
   "execution_count": 31,
   "metadata": {},
   "outputs": [
    {
     "name": "stdout",
     "output_type": "stream",
     "text": [
      "1\n",
      "2\n",
      "3\n",
      "12 3\n"
     ]
    }
   ],
   "source": [
    "special_matrix = [[2,2,2],[1,2,2],[1,1,2],[1,1,1]]\n",
    "value1 = special_matrix[0][0]\n",
    "value2 = special_matrix[len(special_matrix)-1][len(special_matrix[0])-1]\n",
    "count1 = 0\n",
    "count2 = 0\n",
    "counter = 3\n",
    "counter2 = 0\n",
    "for i in range(len(special_matrix[0])):\n",
    "    \n",
    "    count1 += counter\n",
    "    count2 += counter2\n",
    "    counter -=1\n",
    "    counter2 += 1 \n",
    "    print(counter2)\n",
    "value1 *= count1\n",
    "value2 *= count2\n",
    "print(value1, value2)"
   ]
  }
 ],
 "metadata": {
  "kernelspec": {
   "display_name": "ibm",
   "language": "python",
   "name": "python3"
  },
  "language_info": {
   "codemirror_mode": {
    "name": "ipython",
    "version": 3
   },
   "file_extension": ".py",
   "mimetype": "text/x-python",
   "name": "python",
   "nbconvert_exporter": "python",
   "pygments_lexer": "ipython3",
   "version": "3.12.4"
  }
 },
 "nbformat": 4,
 "nbformat_minor": 2
}
