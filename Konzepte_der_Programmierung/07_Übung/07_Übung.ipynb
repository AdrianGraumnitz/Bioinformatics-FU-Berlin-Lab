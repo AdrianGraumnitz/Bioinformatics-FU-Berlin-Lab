{
 "cells": [
  {
   "cell_type": "markdown",
   "metadata": {},
   "source": [
    "## Excercise Sheet 7\n",
    "Authors: Miguel Angel Gama Marroquin und Adrian Graumnitz"
   ]
  },
  {
   "cell_type": "markdown",
   "metadata": {},
   "source": [
    "### Exercise 1 Sort"
   ]
  },
  {
   "cell_type": "markdown",
   "metadata": {},
   "source": [
    "#### (b) Binary insertion sort  "
   ]
  },
  {
   "cell_type": "code",
   "execution_count": 4,
   "metadata": {},
   "outputs": [],
   "source": [
    "def bin_search_for_insert_sort(unsorted_list: list,\n",
    "               search_element: int,\n",
    "               low: int,\n",
    "               high: int)-> int:\n",
    "    '''\n",
    "    Binary search for determining the insertion position in a list.\n",
    "     \n",
    "    Args\n",
    "        unsorted_list(list): A list of elements, some of which are sorted\n",
    "        search_element(int): The searched element\n",
    "        low(int): the smallest Index for the search area \n",
    "        high(int): the highest Index for the search area \n",
    "    \n",
    "    Return\n",
    "        int: The index where the element should be inserted to maintain sorted order.\n",
    "    '''\n",
    "    while low < high:\n",
    "        mid_pos = (low + high)//2\n",
    "        if unsorted_list[mid_pos] < search_element:\n",
    "            low = mid_pos + 1\n",
    "        else:\n",
    "            high = mid_pos\n",
    "            \n",
    "    return low"
   ]
  },
  {
   "cell_type": "code",
   "execution_count": null,
   "metadata": {},
   "outputs": [
    {
     "name": "stdout",
     "output_type": "stream",
     "text": [
      "[0, 1, 2, 3, 4, 5, 6, 7, 8, 9, 10]\n"
     ]
    }
   ],
   "source": [
    "def binary_insertion_sort(unsorted: list):\n",
    "    '''\n",
    "    Sorts an unsorted list using a binary search-based variation of the insertion sort algorithm.\n",
    "        \n",
    "    Args\n",
    "        unsorted(list): A list of unsorted elements\n",
    "    '''\n",
    "    for i in range(1,len(unsorted)):\n",
    "        key = unsorted[i]\n",
    "        pos = bin_search_for_insert_sort(unsorted_list = unsorted,\n",
    "                            search_element = key,\n",
    "                            low = 0,\n",
    "                            high = i)\n",
    "        unsorted[pos+1: i+1] = unsorted[pos: i]\n",
    "        unsorted[pos] = key\n",
    "        \n",
    "to_sort = [3,2,7,10,6,8,4,1,0,5,9]\n",
    "binary_insertion_sort(to_sort)\n",
    "print(to_sort)"
   ]
  },
  {
   "cell_type": "markdown",
   "metadata": {},
   "source": [
    "### Exercise 3"
   ]
  },
  {
   "cell_type": "markdown",
   "metadata": {},
   "source": [
    "#### Exponential Search"
   ]
  },
  {
   "cell_type": "code",
   "execution_count": 2,
   "metadata": {},
   "outputs": [],
   "source": [
    "def bin_search(sorted_list: list,\n",
    "               search_element: int,\n",
    "               low: int = 0,\n",
    "               high: int = None)-> int:\n",
    "    '''\n",
    "    Binary search for the index of an choosen element\n",
    "    \n",
    "    Args\n",
    "        sorted_list(list): A list of sorted elements\n",
    "        search_element(int): The searched element\n",
    "        low(int): The smallest index for the search area (default is 0)\n",
    "        high(int): The highest index for the search area (default is the length of the list)\n",
    "    \n",
    "    Return\n",
    "        int: The index of the searched element if found, or -1 if not found.\n",
    "    '''\n",
    "    if high == None:\n",
    "        high = len(sorted_list)\n",
    "    while low < high:\n",
    "        mid_pos = (low + high)//2\n",
    "        if sorted_list[mid_pos] == search_element:\n",
    "            return mid_pos\n",
    "        elif sorted_list[mid_pos] < search_element:\n",
    "            low = mid_pos + 1\n",
    "        else:\n",
    "            high = mid_pos\n",
    "    return -1"
   ]
  },
  {
   "cell_type": "code",
   "execution_count": 3,
   "metadata": {},
   "outputs": [
    {
     "name": "stdout",
     "output_type": "stream",
     "text": [
      "11\n"
     ]
    }
   ],
   "source": [
    "def exponential_search(sorted_list: list,\n",
    "                       search_element: int):\n",
    "    '''\n",
    "    Performs an exponential search to find the index of the searched element \n",
    "    in a sorted list.\n",
    "    \n",
    "    Args\n",
    "        sorted_list(list): A list with sorted elements\n",
    "        search_element: The searched element\n",
    "    \n",
    "    Return\n",
    "        int: The index of the searched element if found, or -1 if not found.\n",
    "    '''\n",
    "    k = 1\n",
    "    while k < len(sorted_list) and search_element > sorted_list[k - 1]:        \n",
    "        k *= 2\n",
    "        \n",
    "    distance = k\n",
    "    if distance > len(sorted_list):\n",
    "        high = len(sorted_list)\n",
    "    else:\n",
    "        high = distance\n",
    "        \n",
    "    return bin_search(sorted_list = sorted_list,\n",
    "                      search_element = search_element,\n",
    "                      low = distance//2,\n",
    "                      high = high)\n",
    "\n",
    "\n",
    "prim_list = [2,3,5,7,11,13,17,19,23,29,31,37,43]\n",
    "print(exponential_search(sorted_list = prim_list,\n",
    "                         search_element = 37))"
   ]
  }
 ],
 "metadata": {
  "kernelspec": {
   "display_name": "ibm",
   "language": "python",
   "name": "python3"
  },
  "language_info": {
   "codemirror_mode": {
    "name": "ipython",
    "version": 3
   },
   "file_extension": ".py",
   "mimetype": "text/x-python",
   "name": "python",
   "nbconvert_exporter": "python",
   "pygments_lexer": "ipython3",
   "version": "3.12.4"
  }
 },
 "nbformat": 4,
 "nbformat_minor": 2
}
